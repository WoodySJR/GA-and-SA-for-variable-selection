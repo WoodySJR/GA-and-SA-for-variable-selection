{
 "cells": [
  {
   "cell_type": "code",
   "execution_count": null,
   "id": "efda98fe",
   "metadata": {},
   "outputs": [],
   "source": [
    "import random\n",
    "from sklearn.linear_model import LogisticRegression\n",
    "from sklearn.model_selection import cross_val_score"
   ]
  },
  {
   "cell_type": "code",
   "execution_count": null,
   "id": "1ae45d66",
   "metadata": {},
   "outputs": [],
   "source": [
    "# data load-in "
   ]
  },
  {
   "cell_type": "code",
   "execution_count": null,
   "id": "fe3d4aeb",
   "metadata": {},
   "outputs": [],
   "source": [
    "########################## hyper-parameters ##########################\n",
    "iterations = 50 # number of iterations\n",
    "pop_size = 100   # size of population (i.e. how many  chromosomes)\n",
    "pc = 0.4   # probability of crossing\n",
    "pm = 0.1   # probability of mutation\n",
    "chrom_length = 8    # length of a chromosome\n",
    "columns = list(X_train.columns)\n",
    "######################################################################"
   ]
  },
  {
   "cell_type": "code",
   "execution_count": null,
   "id": "10de76ae",
   "metadata": {},
   "outputs": [],
   "source": [
    "# generate the initial population\n",
    "def geneEncoding():\n",
    "    i = 0\n",
    "    while i < pop_size:\n",
    "        temp = []\n",
    "        has_1 = False  \n",
    "        for j in range(chrom_length):\n",
    "            rand = random.randint(0,1)\n",
    "            if rand == 1:\n",
    "                has_1 = True\n",
    "            temp.append(rand)\n",
    "        if has_1:   # ignore all-zeros\n",
    "            i += 1\n",
    "            pop.append(temp)"
   ]
  },
  {
   "cell_type": "code",
   "execution_count": null,
   "id": "09c4a46b",
   "metadata": {},
   "outputs": [],
   "source": [
    "# calculate fitness of every chromosome\n",
    "def calFitness():\n",
    "    fitness_list.clear()\n",
    "    for i in range(pop_size):  \n",
    "        \n",
    "        X_sub = X_train  # create a copy of the training X\n",
    "\n",
    "        has_1 = False\n",
    "        for j in range(chrom_length):\n",
    "            if pop[i][j] == 0:\n",
    "                col_name = columns[j]\n",
    "                X_sub =X_sub.drop(columns = col_name)\n",
    "            else:\n",
    "                has_1 = True\n",
    "        \n",
    "        if has_1:\n",
    "            clf = LogisticRegression(penalty='none') # logistic regression as basic model\n",
    "            fitness = cross_val_score(clf, X_sub, y_train, cv=10, \n",
    "                                      scoring='roc_auc').mean() # 10-fold cv AUC as fitness\n",
    "            fitness_list.append(fitness)\n",
    "        else:\n",
    "            fitness = 0     # 0 fitness for all-zeros\n",
    "            fitness_list.append(fitness)"
   ]
  },
  {
   "cell_type": "code",
   "execution_count": null,
   "id": "ca6d2adf",
   "metadata": {},
   "outputs": [],
   "source": [
    "# roulette wheel selection （higher fitness, higher proba of being chosen）\n",
    "def sumFitness():\n",
    "    total = 0\n",
    "    for i in range(pop_size):\n",
    "        total += fitness_list[i]\n",
    "    return total\n",
    "\n",
    "def getRatio():\n",
    "    ratio_list.clear()\n",
    "    ratio_list.append(fitness_list[0])\n",
    "    for i in range(1, pop_size):\n",
    "        ratio_list.append(ratio_list[i-1] + fitness_list[i])\n",
    "    ratio_list[-1] = 1\n",
    "\n",
    "def selection():\n",
    "    global pop\n",
    "    total_fitness = sumFitness()\n",
    "    for i in range(pop_size):\n",
    "        fitness_list[i] = fitness_list[i] / total_fitness\n",
    "    getRatio()\n",
    "    \n",
    "    rand_ratio = [] \n",
    "    for i in range(pop_size):\n",
    "        rand_ratio.append(random.random())\n",
    "    rand_ratio.sort()\n",
    "\n",
    "    new_pop = []   \n",
    "    i = 0  \n",
    "    j = 0  \n",
    "   \n",
    "    while i < pop_size:\n",
    "        if rand_ratio[i] < ratio_list[j]:  \n",
    "            new_pop.append(pop[j])\n",
    "            i += 1\n",
    "        else:\n",
    "            j += 1\n",
    "\n",
    "    pop = new_pop"
   ]
  },
  {
   "cell_type": "code",
   "execution_count": null,
   "id": "521d92d1",
   "metadata": {},
   "outputs": [],
   "source": [
    "# crossover\n",
    "def crossover():\n",
    "    for i in range(pop_size-1): # crossover between adjoin chromosomes\n",
    "        if random.random() < pc:\n",
    "            cpoint = random.randint(0, chrom_length-1)    # randomly select a crossover point\n",
    "            temp1 = []\n",
    "            temp2 = []\n",
    "            temp1.extend(pop[i][:cpoint])\n",
    "            temp1.extend(pop[i+1][cpoint:])\n",
    "            temp2.extend(pop[i+1][:cpoint])\n",
    "            temp2.extend(pop[i][cpoint:])\n",
    "            pop[i] = temp1\n",
    "            pop[i+1] = temp2"
   ]
  },
  {
   "cell_type": "code",
   "execution_count": null,
   "id": "1b0b442d",
   "metadata": {},
   "outputs": [],
   "source": [
    "# mutation\n",
    "def mutation():\n",
    "    for i in range(pop_size):\n",
    "        if random.random() < pm: \n",
    "            mpoint = random.randint(0, chrom_length-1)  # randomly select a mutation point\n",
    "            if pop[i][mpoint] == 1:\n",
    "                pop[i][mpoint] = 0\n",
    "            else:\n",
    "                pop[i][mpoint] = 1"
   ]
  },
  {
   "cell_type": "code",
   "execution_count": null,
   "id": "55765c77",
   "metadata": {},
   "outputs": [],
   "source": [
    "# get the one with highest fitness \n",
    "def getBest():\n",
    "    best_chrom = pop[0]\n",
    "    best_fitness = fitness_list[0]\n",
    "    for i in range(1,pop_size):\n",
    "        if fitness_list[i] > best_fitness:\n",
    "            best_fitness = fitness_list[i]  \n",
    "            best_chrom = pop[i] \n",
    "\n",
    "    return best_chrom, best_fitness"
   ]
  },
  {
   "cell_type": "code",
   "execution_count": null,
   "id": "f6579e00",
   "metadata": {},
   "outputs": [],
   "source": [
    "pop = []\n",
    "fitness_list = []\n",
    "ratio_list = []  \n",
    "\n",
    "result_GA = []\n",
    "GA_best = []\n",
    "score_best = 0\n",
    "\n",
    "geneEncoding()\n",
    "    \n",
    "for i in range(iterations):\n",
    "    print(i)\n",
    "        \n",
    "    calFitness() \n",
    "        \n",
    "    best_chrom, best_fitness = getBest()\n",
    "    result_GA.append([i, best_chrom, best_fitness])\n",
    "    if best_fitness > score_best: # keep the best variable subset along with its fitness\n",
    "        GA_best = best_chrom\n",
    "        score_best = best_fitness\n",
    "    print(i,best_chrom,best_fitness)\n",
    "    print('best',GA_best,score_best)\n",
    "    print('\\n')\n",
    "        \n",
    "    selection() \n",
    "    crossover() \n",
    "    mutation()  "
   ]
  }
 ],
 "metadata": {
  "kernelspec": {
   "display_name": "Python 3 (ipykernel)",
   "language": "python",
   "name": "python3"
  },
  "language_info": {
   "codemirror_mode": {
    "name": "ipython",
    "version": 3
   },
   "file_extension": ".py",
   "mimetype": "text/x-python",
   "name": "python",
   "nbconvert_exporter": "python",
   "pygments_lexer": "ipython3",
   "version": "3.8.11"
  }
 },
 "nbformat": 4,
 "nbformat_minor": 5
}
