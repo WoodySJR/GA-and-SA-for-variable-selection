{
 "cells": [
  {
   "cell_type": "code",
   "execution_count": null,
   "id": "85d8045b",
   "metadata": {},
   "outputs": [],
   "source": [
    "import pandas as pd\n",
    "import numpy as np\n",
    "import matplotlib.pyplot as plt\n",
    "import random\n",
    "import math\n",
    "from sklearn.linear_model import LogisticRegression\n",
    "from sklearn.model_selection import cross_val_score"
   ]
  },
  {
   "cell_type": "code",
   "execution_count": null,
   "id": "d4b36a19",
   "metadata": {},
   "outputs": [],
   "source": [
    "# data load-in"
   ]
  },
  {
   "cell_type": "code",
   "execution_count": null,
   "id": "888de8f9",
   "metadata": {},
   "outputs": [],
   "source": [
    "##############hyper-parameters##############\n",
    "\n",
    "tmp = math.exp(3)   # initial temperature\n",
    "tmp_min = math.exp(-8)    # stop temperature\n",
    "alpha = 0.98    # dropping rate of temperature\n",
    "chrom_length = 8    # length of a chromosome\n",
    "counter = 10000     # max iters allowed for generating a worse chrom\n",
    "\n",
    "k = 0.002 # bigger k, more likely a worse chrom is accepted\n",
    "\n",
    "columns = list(X_train.columns)\n",
    "#############################################"
   ]
  },
  {
   "cell_type": "code",
   "execution_count": null,
   "id": "bbe71620",
   "metadata": {},
   "outputs": [],
   "source": [
    "# get the initial chromosome\n",
    "def geneEncoding():\n",
    "    while True:\n",
    "        temp = []\n",
    "        has_1 = False   \n",
    "        for j in range(chrom_length):\n",
    "            rand = random.randint(0,1)\n",
    "            if rand == 1:\n",
    "                has_1 = True\n",
    "            temp.append(rand)\n",
    "        if has_1:   # can't be all zeros (must have at least one variable)\n",
    "            return temp"
   ]
  },
  {
   "cell_type": "code",
   "execution_count": null,
   "id": "22e5bb64",
   "metadata": {},
   "outputs": [],
   "source": [
    "# accept or not (depending on delta_E)\n",
    "def is_acceptable(delta_E,tmp):     \n",
    "    if delta_E<=0:   # ΔE<=0，accept direcly\n",
    "        print('accept directly')\n",
    "        return True\n",
    "    else:\n",
    "        p=math.exp(-delta_E/(k*tmp))    # proba of accept\n",
    "        r=random.random()\n",
    "        if r<p:\n",
    "            print(str(r)+\"<\"+str(p)+\"，acceptable\") \n",
    "            return True\n",
    "        else:\n",
    "            print(str(r)+\">=\"+str(p)+\"，reject\"+\"（\"+str(counter)+\"）\")\n",
    "            return False"
   ]
  },
  {
   "cell_type": "code",
   "execution_count": null,
   "id": "e6fad3bb",
   "metadata": {},
   "outputs": [],
   "source": [
    "# generate a new chromosome from the old one\n",
    "def getNewChrom(x):\n",
    "    x_new = x.copy()\n",
    "    mpoint = random.randint(0, chrom_length-1)  # randomly choose a mutation point\n",
    "    if x[mpoint] == 1:\n",
    "        x_new[mpoint] = 0\n",
    "    else:\n",
    "        x_new[mpoint] = 1\n",
    "    return x_new"
   ]
  },
  {
   "cell_type": "code",
   "execution_count": null,
   "id": "f4d72ce5",
   "metadata": {},
   "outputs": [],
   "source": [
    "def getFitness(x):\n",
    "    X_sub = X_train\n",
    "\n",
    "    has_1 = False\n",
    "    for j in range(chrom_length):\n",
    "        if x[j] == 0:\n",
    "            col_name = columns[j]\n",
    "            X_sub =X_sub.drop(columns = col_name)\n",
    "        else:\n",
    "            has_1 = True\n",
    "        \n",
    "    if has_1:\n",
    "        clf = LogisticRegression(penalty='none') # logistic regression as the basic model\n",
    "        fitness = cross_val_score(clf, X_sub, y_train, \n",
    "                                  cv=10, scoring='roc_auc').mean()  # 10-fold cv AUC as fitness\n",
    "        return fitness\n",
    "    else:\n",
    "        fitness = 0     # 0 fitness for an all-zero chrom (i.e. at least one variable required)\n",
    "        return fitness"
   ]
  },
  {
   "cell_type": "code",
   "execution_count": null,
   "id": "13b98074",
   "metadata": {},
   "outputs": [],
   "source": [
    "x_old = geneEncoding()\n",
    "E_old = getFitness(x_old)\n",
    "    \n",
    "x_best = x_old\n",
    "E_best = E_old\n",
    "\n",
    "while tmp > tmp_min:\n",
    "\n",
    "    x_new = getNewChrom(x_old)\n",
    "    E_new = getFitness(x_new)\n",
    "    delta_E = -(E_new - E_old)\n",
    "    \n",
    "    acc = is_acceptable(delta_E,tmp)\n",
    "    \n",
    "    if acc==True:\n",
    "        x_old = x_new\n",
    "        E_old = E_new\n",
    "    \n",
    "    if delta_E<=0:   # ΔE<=0，drop the temperature\n",
    "        tmp = tmp * alpha\n",
    "    else:\n",
    "        counter -= 1\n",
    "\n",
    "    if counter < 0:\n",
    "        break\n",
    "        \n",
    "    if E_old >= E_best: # keep the best chrom along with its fitness\n",
    "        E_best = E_old\n",
    "        x_best = x_old\n",
    "        \n",
    "    print(tmp,x_old,E_old)\n",
    "    print('best',x_best,E_best)\n",
    "    print('\\n')\n",
    "    "
   ]
  }
 ],
 "metadata": {
  "kernelspec": {
   "display_name": "Python 3 (ipykernel)",
   "language": "python",
   "name": "python3"
  },
  "language_info": {
   "codemirror_mode": {
    "name": "ipython",
    "version": 3
   },
   "file_extension": ".py",
   "mimetype": "text/x-python",
   "name": "python",
   "nbconvert_exporter": "python",
   "pygments_lexer": "ipython3",
   "version": "3.8.11"
  }
 },
 "nbformat": 4,
 "nbformat_minor": 5
}
